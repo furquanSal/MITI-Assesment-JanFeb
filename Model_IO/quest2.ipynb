{
 "cells": [
  {
   "cell_type": "markdown",
   "metadata": {},
   "source": [
    "### Model I/O\n",
    "##### Question 2 - Dynamic Model Switching"
   ]
  },
  {
   "cell_type": "code",
   "execution_count": 77,
   "metadata": {},
   "outputs": [],
   "source": [
    "from langchain_core.prompts import FewShotPromptTemplate, PromptTemplate\n",
    "from langchain_openai import ChatOpenAI\n",
    "from langchain_openai import OpenAI\n",
    "from langchain_google_genai import ChatGoogleGenerativeAI\n",
    "import os "
   ]
  },
  {
   "cell_type": "code",
   "execution_count": 78,
   "metadata": {},
   "outputs": [],
   "source": [
    "user_ques = str(input(\"Enter a question: \"))\n",
    "\n",
    "\n",
    "# Using GPT3 to answer factual questions\n",
    "gpt = OpenAI(openai_api_key=os.getenv(\"OPENAI_API_KEY_PERSONAL\"))\n",
    "\n",
    "# Using Gemini to answer creative writing tasks\n",
    "gemini = ChatGoogleGenerativeAI(model='gemini-pro')"
   ]
  },
  {
   "cell_type": "code",
   "execution_count": 79,
   "metadata": {},
   "outputs": [],
   "source": [
    "model = ChatOpenAI(openai_api_key = os.getenv(\"OPENAI_API_KEY_PERSONAL\"))\n",
    "\n",
    "few_shots = [\n",
    "    {'Question': \"What is the capital city of Japan?\", 'Category': 'Factual'},\n",
    "    {'Question': \"In what year did the United States declare its independence?\", 'Category': 'Factual'},\n",
    "    {'Question': \"Who is the author of the novel 'To Kill a Mockingbird'?\", 'Category': 'Factual'},\n",
    "    {'Question': \"What is the chemical symbol for gold?\", 'Category': 'Factual'},\n",
    "    {'Question': \"How many planets are there in our solar system?\", 'Category': 'Factual'},\n",
    "    {'Question': \"What is the largest mammal on Earth?\", 'Category': 'Factual'},\n",
    "    {'Question': \"In which year did the Titanic sink?\", 'Category': 'Factual'},\n",
    "    {'Question': \"Which element has the atomic number 79 on the periodic table?\", 'Category': 'Factual'},\n",
    "    {'Question': \"Who painted the Mona Lisa?\", 'Category': 'Factual'},\n",
    "    {'Question': \"What is the currency of Australia?\", 'Category': 'Factual'},\n",
    "    {'Question': \"If you could have a conversation with any fictional character, who would it be and why?\", 'Category': 'Creative'},\n",
    "    {'Question': \"Imagine a world where gravity works in reverse. How would everyday life be different?\", 'Category': 'Creative'},\n",
    "    {'Question': \"Describe the color blue to someone who has never seen it before.\", 'Category': 'Creative'},\n",
    "    {'Question': \"If you were to create a new holiday, what would it be called and how would people celebrate it?\", 'Category': 'Creative'},\n",
    "    {'Question': \"Invent a mythical creature and explain its characteristics and habitat.\", 'Category': 'Creative'},\n",
    "    {'Question': \"If you could time-travel to any historical period, where and when would you go, and what would you do?\", 'Category': 'Creative'},\n",
    "    {'Question': \"Create a short story where the protagonist has the ability to speak every language except their own.\", 'Category': 'Creative'},\n",
    "    {'Question': \"If you could transform into any animal at will, which one would you choose and why?\", 'Category': 'Creative'},\n",
    "    {'Question': \"Envision a world where technology allows people to share dreams. What kind of dreams would be the most popular to exchange?\", 'Category': 'Creative'},\n",
    "    {'Question': \"If emotions were visible as colors, how would your current mood look right now?\", 'Category': 'Creative'},\n",
    "]\n",
    "\n",
    "example_prompt = PromptTemplate(input_variables=[\"Question,Category\"], template=\"Question: {Question} Category: {Category}\")\n",
    "dynamic_prompt = FewShotPromptTemplate(\n",
    "    input_variables=['question'],\n",
    "    examples=few_shots,\n",
    "    example_prompt=example_prompt,\n",
    "    prefix=\"I want the category of given question. Just reply with the category, nothing else\",\n",
    "    suffix = \"Query: {question}, Result:\"\n",
    ")\n",
    "\n",
    "prompt = dynamic_prompt.format(question=user_ques)\n",
    "result = model.invoke (prompt)\n",
    "category = result.content"
   ]
  },
  {
   "cell_type": "code",
   "execution_count": 80,
   "metadata": {},
   "outputs": [
    {
     "name": "stdout",
     "output_type": "stream",
     "text": [
      "In a world of joy and tears they guide,\n",
      "Parents, our anchors, our steady tide.\n",
      "With love and care, they nurture our soul,\n",
      "Their sacrifices, a story untold.\n",
      "\n",
      "Through life's journey, they hold our hand,\n",
      "Teach us to walk, to understand.\n",
      "Their patience, a beacon in the dark,\n",
      "Guiding us through life's every spark.\n",
      "\n",
      "With open arms, they embrace our dreams,\n",
      "Wipe away tears, mend broken seams.\n",
      "Their words of wisdom, a soothing balm,\n",
      "Calming our fears, bringing us calm.\n",
      "\n",
      "They stand as pillars, strong and tall,\n",
      "Supporting us through every fall.\n",
      "Their love, an unwavering flame,\n",
      "Igniting our hearts, fueling our game.\n",
      "\n",
      "So let us cherish these precious souls,\n",
      "For their presence, our life unfolds.\n",
      "In their eyes, we find love so pure,\n",
      "A bond that time can never obscure.\n",
      "\n",
      "Parents, our guardians, our guiding light,\n",
      "We are blessed to have you in our sight.\n",
      "Your love, your sacrifices, we shall cherish,\n",
      "Forever grateful, we won't perish.\n",
      "\n",
      "\n",
      "Model Used : Gemma\n"
     ]
    }
   ],
   "source": [
    "if (category=='Factual'):\n",
    "    output = gpt.invoke(user_ques)\n",
    "    print(output)\n",
    "    print(\"\\n\\nModel Used : GPT-3\")\n",
    "elif(category=='Creative'):\n",
    "    output = gemini.invoke(user_ques)\n",
    "    print(output.content)\n",
    "    print(\"\\n\\nModel Used : Gemma\")\n",
    "else:\n",
    "    print(\"Failed to recognize Category. Contact Developer :( \")"
   ]
  },
  {
   "cell_type": "markdown",
   "metadata": {},
   "source": [
    "<<< End Of Code >>>"
   ]
  }
 ],
 "metadata": {
  "kernelspec": {
   "display_name": "Python 3",
   "language": "python",
   "name": "python3"
  },
  "language_info": {
   "codemirror_mode": {
    "name": "ipython",
    "version": 3
   },
   "file_extension": ".py",
   "mimetype": "text/x-python",
   "name": "python",
   "nbconvert_exporter": "python",
   "pygments_lexer": "ipython3",
   "version": "3.12.0"
  }
 },
 "nbformat": 4,
 "nbformat_minor": 2
}
