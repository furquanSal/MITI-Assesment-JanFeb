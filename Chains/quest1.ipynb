{
 "cells": [
  {
   "cell_type": "markdown",
   "metadata": {},
   "source": [
    "### Chains\n",
    "##### Question 1 - Chained Problem Solving"
   ]
  },
  {
   "cell_type": "code",
   "execution_count": 8,
   "metadata": {},
   "outputs": [],
   "source": [
    "from langchain.prompts.chat import (\n",
    "    ChatPromptTemplate,\n",
    "    HumanMessagePromptTemplate\n",
    ")\n",
    "from langchain_google_genai.chat_models import ChatGoogleGenerativeAI\n",
    "from langchain.chains import LLMChain, SequentialChain"
   ]
  },
  {
   "cell_type": "code",
   "execution_count": 9,
   "metadata": {},
   "outputs": [],
   "source": [
    "chat_model = ChatGoogleGenerativeAI(model=\"gemini-pro\", temperature=0)"
   ]
  },
  {
   "cell_type": "code",
   "execution_count": 35,
   "metadata": {},
   "outputs": [],
   "source": [
    "user_input = str(input(\"Please specify what you would like to have today: \"))\n",
    "\n",
    "template1 = \"Extract the meal time user has entered. Take Lunch, if nothing is specified. Generate your response in only one word. \\n {user_input}\" \n",
    "prompt1 = HumanMessagePromptTemplate.from_template(template=template1)\n",
    "chat_prompt1 = ChatPromptTemplate.from_messages([prompt1])\n",
    "chain1 = LLMChain(llm=chat_model, prompt=chat_prompt1, output_key=\"mealTime\")\n",
    "\n",
    "template2 = \"Extract only the cuisine user wants to eat. Generate your response in only one word. \\n {user_input}\" \n",
    "prompt2 = HumanMessagePromptTemplate.from_template(template=template2)\n",
    "chat_prompt2 = ChatPromptTemplate.from_messages([prompt2])\n",
    "chain2 = LLMChain(llm=chat_model, prompt=chat_prompt2, output_key=\"foodCuisine\")\n",
    "\n",
    "template3 = \"Take the {foodCuisine} cuisine and suggest 5 dishes for {mealTime}.\" \n",
    "prompt3 = HumanMessagePromptTemplate.from_template(template=template3)\n",
    "chat_prompt3 = ChatPromptTemplate.from_messages([prompt3])\n",
    "chain3 = LLMChain(llm=chat_model, prompt=chat_prompt3, output_key=\"foodSuggestion\")\n",
    "\n",
    "template4 = \"Pick any one dish from {foodSuggestion} and generate recipe with detailed instructions. Add additional tips if required.\" \n",
    "prompt4 = HumanMessagePromptTemplate.from_template(template=template4)\n",
    "chat_prompt4 = ChatPromptTemplate.from_messages([prompt4])\n",
    "chain4 = LLMChain(llm=chat_model, prompt=chat_prompt4, output_key=\"foodRecipe\")\n",
    "\n",
    "chain = SequentialChain(chains=[chain1, chain2, chain3, chain4],\n",
    "                        input_variables=[\"user_input\"],\n",
    "                        output_variables=[\"mealTime\",\"foodCuisine\",\"foodSuggestion\",\"foodRecipe\"],\n",
    "                        verbose = True)"
   ]
  },
  {
   "cell_type": "code",
   "execution_count": 36,
   "metadata": {},
   "outputs": [
    {
     "name": "stdout",
     "output_type": "stream",
     "text": [
      "\n",
      "\n",
      "\u001b[1m> Entering new SequentialChain chain...\u001b[0m\n"
     ]
    },
    {
     "name": "stderr",
     "output_type": "stream",
     "text": [
      "Retrying langchain_google_genai.chat_models._chat_with_retry.<locals>._chat_with_retry in 2.0 seconds as it raised InternalServerError: 500 An internal error has occurred. Please retry or report in https://developers.generativeai.google/guide/troubleshooting.\n",
      "Retrying langchain_google_genai.chat_models._chat_with_retry.<locals>._chat_with_retry in 4.0 seconds as it raised InternalServerError: 500 An internal error has occurred. Please retry or report in https://developers.generativeai.google/guide/troubleshooting.\n",
      "Retrying langchain_google_genai.chat_models._chat_with_retry.<locals>._chat_with_retry in 2.0 seconds as it raised InternalServerError: 500 An internal error has occurred. Please retry or report in https://developers.generativeai.google/guide/troubleshooting.\n",
      "Retrying langchain_google_genai.chat_models._chat_with_retry.<locals>._chat_with_retry in 4.0 seconds as it raised InternalServerError: 500 An internal error has occurred. Please retry or report in https://developers.generativeai.google/guide/troubleshooting.\n"
     ]
    },
    {
     "name": "stdout",
     "output_type": "stream",
     "text": [
      "\n",
      "\u001b[1m> Finished chain.\u001b[0m\n"
     ]
    }
   ],
   "source": [
    "result = chain.invoke(user_input)"
   ]
  },
  {
   "cell_type": "code",
   "execution_count": 37,
   "metadata": {},
   "outputs": [
    {
     "name": "stdout",
     "output_type": "stream",
     "text": [
      "1. **Chicken Tikka Masala:** This classic Indian dish is made with tender chicken marinated in yogurt and spices, then grilled and simmered in a creamy tomato sauce. It's a flavorful and satisfying dish that is sure to please everyone at the table.\n",
      "\n",
      "2. **Butter Chicken:** Another popular Indian dish, butter chicken is made with chicken that is cooked in a creamy tomato sauce. The sauce is rich and flavorful, and the chicken is tender and juicy. It's a great dish to serve with rice or naan bread.\n",
      "\n",
      "3. **Lamb Rogan Josh:** This lamb dish is made with lamb that is cooked in a spicy tomato sauce. The sauce is flavorful and complex, and the lamb is tender and juicy. It's a great dish to serve with rice or naan bread.\n",
      "\n",
      "4. **Saag Paneer:** This vegetarian dish is made with spinach and paneer (Indian cottage cheese). The spinach is cooked in a creamy tomato sauce, and the paneer is added at the end. It's a flavorful and satisfying dish that is perfect for a vegetarian meal.\n",
      "\n",
      "5. **Biryani:** This rice dish is made with rice, meat, vegetables, and spices. The rice is cooked in a flavorful broth, and the meat and vegetables are added at the end. It's a hearty and flavorful dish that is perfect for a special occasion.\n"
     ]
    }
   ],
   "source": [
    "print(result['foodSuggestion'])"
   ]
  },
  {
   "cell_type": "code",
   "execution_count": 38,
   "metadata": {},
   "outputs": [
    {
     "name": "stdout",
     "output_type": "stream",
     "text": [
      "**Dish:** Chicken Tikka Masala\n",
      "\n",
      "**Ingredients:**\n",
      "\n",
      "* 1 pound boneless, skinless chicken breasts, cut into 1-inch pieces\n",
      "* 1 cup plain yogurt\n",
      "* 1 tablespoon garam masala\n",
      "* 1 teaspoon ground cumin\n",
      "* 1 teaspoon ground coriander\n",
      "* 1 teaspoon turmeric powder\n",
      "* 1 teaspoon red chili powder\n",
      "* 1/2 teaspoon salt\n",
      "* 1/4 cup vegetable oil\n",
      "* 1 onion, thinly sliced\n",
      "* 2 cloves garlic, minced\n",
      "* 1 tablespoon ginger, minced\n",
      "* 1 (28-ounce) can diced tomatoes\n",
      "* 1 cup heavy cream\n",
      "* 1/4 cup chopped cilantro\n",
      "\n",
      "**Instructions:**\n",
      "\n",
      "1. In a large bowl, combine the chicken, yogurt, garam masala, cumin, coriander, turmeric, chili powder, and salt. Mix well to coat the chicken. Cover and refrigerate for at least 30 minutes, or up to overnight.\n",
      "2. Heat the oil in a large skillet over medium heat. Add the chicken and cook until browned on all sides. Remove the chicken from the skillet and set aside.\n",
      "3. Add the onion to the skillet and cook until softened. Add the garlic and ginger and cook for 1 minute more.\n",
      "4. Stir in the tomatoes and bring to a simmer. Reduce heat to low and simmer for 15 minutes, or until the sauce has thickened.\n",
      "5. Add the chicken back to the skillet and stir to coat in the sauce. Bring to a simmer and cook for 5 minutes, or until the chicken is cooked through.\n",
      "6. Stir in the heavy cream and cilantro. Serve immediately with rice or naan bread.\n",
      "\n",
      "**Tips:**\n",
      "\n",
      "* For a more flavorful dish, use boneless, skinless chicken thighs instead of breasts.\n",
      "* If you don't have garam masala, you can make your own by combining equal parts ground cumin, coriander, cardamom, cloves, and black pepper.\n",
      "* If you like your dish spicy, add an extra 1/4 teaspoon of chili powder.\n",
      "* Serve Chicken Tikka Masala with a side of raita, a yogurt-based sauce with cucumber and mint.\n"
     ]
    }
   ],
   "source": [
    "print(result['foodRecipe'])"
   ]
  },
  {
   "cell_type": "code",
   "execution_count": 39,
   "metadata": {},
   "outputs": [
    {
     "data": {
      "text/plain": [
       "{'user_input': 'Mumbai dishes for dinner',\n",
       " 'mealTime': 'Dinner',\n",
       " 'foodCuisine': 'Indian',\n",
       " 'foodSuggestion': \"1. **Chicken Tikka Masala:** This classic Indian dish is made with tender chicken marinated in yogurt and spices, then grilled and simmered in a creamy tomato sauce. It's a flavorful and satisfying dish that is sure to please everyone at the table.\\n\\n2. **Butter Chicken:** Another popular Indian dish, butter chicken is made with chicken that is cooked in a creamy tomato sauce. The sauce is rich and flavorful, and the chicken is tender and juicy. It's a great dish to serve with rice or naan bread.\\n\\n3. **Lamb Rogan Josh:** This lamb dish is made with lamb that is cooked in a spicy tomato sauce. The sauce is flavorful and complex, and the lamb is tender and juicy. It's a great dish to serve with rice or naan bread.\\n\\n4. **Saag Paneer:** This vegetarian dish is made with spinach and paneer (Indian cottage cheese). The spinach is cooked in a creamy tomato sauce, and the paneer is added at the end. It's a flavorful and satisfying dish that is perfect for a vegetarian meal.\\n\\n5. **Biryani:** This rice dish is made with rice, meat, vegetables, and spices. The rice is cooked in a flavorful broth, and the meat and vegetables are added at the end. It's a hearty and flavorful dish that is perfect for a special occasion.\",\n",
       " 'foodRecipe': \"**Dish:** Chicken Tikka Masala\\n\\n**Ingredients:**\\n\\n* 1 pound boneless, skinless chicken breasts, cut into 1-inch pieces\\n* 1 cup plain yogurt\\n* 1 tablespoon garam masala\\n* 1 teaspoon ground cumin\\n* 1 teaspoon ground coriander\\n* 1 teaspoon turmeric powder\\n* 1 teaspoon red chili powder\\n* 1/2 teaspoon salt\\n* 1/4 cup vegetable oil\\n* 1 onion, thinly sliced\\n* 2 cloves garlic, minced\\n* 1 tablespoon ginger, minced\\n* 1 (28-ounce) can diced tomatoes\\n* 1 cup heavy cream\\n* 1/4 cup chopped cilantro\\n\\n**Instructions:**\\n\\n1. In a large bowl, combine the chicken, yogurt, garam masala, cumin, coriander, turmeric, chili powder, and salt. Mix well to coat the chicken. Cover and refrigerate for at least 30 minutes, or up to overnight.\\n2. Heat the oil in a large skillet over medium heat. Add the chicken and cook until browned on all sides. Remove the chicken from the skillet and set aside.\\n3. Add the onion to the skillet and cook until softened. Add the garlic and ginger and cook for 1 minute more.\\n4. Stir in the tomatoes and bring to a simmer. Reduce heat to low and simmer for 15 minutes, or until the sauce has thickened.\\n5. Add the chicken back to the skillet and stir to coat in the sauce. Bring to a simmer and cook for 5 minutes, or until the chicken is cooked through.\\n6. Stir in the heavy cream and cilantro. Serve immediately with rice or naan bread.\\n\\n**Tips:**\\n\\n* For a more flavorful dish, use boneless, skinless chicken thighs instead of breasts.\\n* If you don't have garam masala, you can make your own by combining equal parts ground cumin, coriander, cardamom, cloves, and black pepper.\\n* If you like your dish spicy, add an extra 1/4 teaspoon of chili powder.\\n* Serve Chicken Tikka Masala with a side of raita, a yogurt-based sauce with cucumber and mint.\"}"
      ]
     },
     "execution_count": 39,
     "metadata": {},
     "output_type": "execute_result"
    }
   ],
   "source": [
    "# For analyzing the output data\n",
    "\n",
    "result"
   ]
  },
  {
   "cell_type": "markdown",
   "metadata": {},
   "source": [
    "<<< End Of Code >>>"
   ]
  }
 ],
 "metadata": {
  "kernelspec": {
   "display_name": "Python 3",
   "language": "python",
   "name": "python3"
  },
  "language_info": {
   "codemirror_mode": {
    "name": "ipython",
    "version": 3
   },
   "file_extension": ".py",
   "mimetype": "text/x-python",
   "name": "python",
   "nbconvert_exporter": "python",
   "pygments_lexer": "ipython3",
   "version": "3.12.0"
  }
 },
 "nbformat": 4,
 "nbformat_minor": 2
}
