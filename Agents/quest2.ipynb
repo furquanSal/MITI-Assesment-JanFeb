{
 "cells": [
  {
   "cell_type": "markdown",
   "metadata": {},
   "source": [
    "### Agents\n",
    "\n",
    "##### Question 2 - Personalized News Curator"
   ]
  },
  {
   "cell_type": "code",
   "execution_count": 103,
   "metadata": {},
   "outputs": [],
   "source": [
    "from langchain_google_genai import ChatGoogleGenerativeAI\n",
    "from langchain_openai import ChatOpenAI\n",
    "from langchain.agents import Tool, load_tools, create_react_agent, AgentExecutor, tool\n",
    "from langchain import hub\n",
    "from langchain_core.prompts import ChatPromptTemplate, SystemMessagePromptTemplate, HumanMessagePromptTemplate\n",
    "from langchain_community.document_loaders import WebBaseLoader\n",
    "import os\n",
    "import requests"
   ]
  },
  {
   "cell_type": "code",
   "execution_count": 104,
   "metadata": {},
   "outputs": [],
   "source": [
    "gemini = ChatGoogleGenerativeAI(model = \"gemini-pro\")\n",
    "openai = ChatOpenAI(openai_api_key=os.getenv('OPENAI_API_KEY_PERSONAL'))\n",
    "interests = []"
   ]
  },
  {
   "cell_type": "code",
   "execution_count": 105,
   "metadata": {},
   "outputs": [],
   "source": [
    "i = int(input(\"how many topics would you like to enter\"))\n",
    "for _ in range(i):\n",
    "    userInterest = input(\"Please type your topics of interest separated with a comma\")\n",
    "    interests.append(userInterest)"
   ]
  },
  {
   "cell_type": "code",
   "execution_count": 106,
   "metadata": {},
   "outputs": [
    {
     "name": "stdout",
     "output_type": "stream",
     "text": [
      "['sports', 'entertainment', 'politics']\n"
     ]
    }
   ],
   "source": [
    "print(interests)"
   ]
  },
  {
   "cell_type": "code",
   "execution_count": 107,
   "metadata": {},
   "outputs": [
    {
     "name": "stdout",
     "output_type": "stream",
     "text": [
      "Title: ESPN, Fox, and Warner Bros. Discovery are launching a streaming service just for sports this fall\n",
      "Author: Pranav Dixit\n",
      "Description: Three of the biggest sports TV companies in the US — ESPN, Fox, and Warner Bros. Discovery — will launch a streaming sports service in the fall of 2024, the companies said in a joint statement on Tuesday. It will stream sporting events from networks that all …\n",
      "URL: https://consent.yahoo.com/v2/collectConsent?sessionId=1_cc-session_cea6a5eb-1a79-4664-97fc-06941e8ca9e6\n",
      "Published At: 2024-02-06T22:50:50Z\n",
      "-----\n",
      "Title: Chrysler Halcyon concept is a reminder the company can be more than just minivans\n",
      "Author: Andrew J. Hawkins\n",
      "Description: Chrysler revealed its Halcyon concept, a stunning four-door sports car with electric and autonomous capabilities. And more importantly, it’s not a minivan.\n",
      "URL: https://www.theverge.com/2024/2/13/24067683/chrysler-halcyon-concept-ev-autonomous-specs-photos\n",
      "Published At: 2024-02-13T10:01:00Z\n",
      "-----\n",
      "Title: ESPN, Fox, and Warner Bros. are putting together a juggernaut sports streaming app\n",
      "Author: Emma Roth\n",
      "Description: ESPN, Fox, and Warner Bros. Discovery are teaming up to create a standalone sports streaming app that airs live games from the MLB, NFL, NHL, and more.\n",
      "URL: https://www.theverge.com/2024/2/6/24064007/espn-fox-warner-bros-sports-streaming-partnership\n",
      "Published At: 2024-02-06T22:16:09Z\n",
      "-----\n",
      "Title: How to Bet on Sports – A Beginner’s Guide to Online Sports Betting\n",
      "Author: Justin Colombo\n",
      "Description: Learning how to bet on sports is becoming a necessary skill for most avid sports fans nowadays. When most sports […]\n",
      "The post How to Bet on Sports – A Beginner’s Guide to Online Sports Betting appeared first on ReadWrite.\n",
      "URL: https://readwrite.com/gambling/guides/how-to-bet-on-sports/\n",
      "Published At: 2024-02-01T08:41:33Z\n",
      "-----\n",
      "Title: Disney is investing $1.5 billion in Epic Games to create a 'games and entertainment universe'\n",
      "Author: Pranav Dixit\n",
      "Description: Disney will invest $1.5 billion in Epic Games, the creator of Fortnite, the company announced on Wednesday. As part of the initiative, Disney and Epic Games will create a brand new “games and entertainment universe” over the next few years, Disney said in a s…\n",
      "URL: https://consent.yahoo.com/v2/collectConsent?sessionId=1_cc-session_82095eb4-4444-4d5f-8e16-d6d6d20274f1\n",
      "Published At: 2024-02-07T21:50:15Z\n",
      "-----\n",
      "Title: Running UNIX On A Nintendo Entertainment System\n",
      "Author: Maya Posch\n",
      "Description: Who wouldn’t want to run a UNIX-like operating system on their NES or Famicom? Although there’s arguably no practical reason for doing so, [decrazyo] has cobbled together a working port …read more\n",
      "URL: https://hackaday.com/2024/02/11/running-unix-on-a-nintendo-entertainment-system/\n",
      "Published At: 2024-02-11T09:00:11Z\n",
      "-----\n",
      "Title: 1Password is down, preventing some users from logging in\n",
      "Author: Wes Davis\n",
      "Description: 1Password is experiencing an outage that’s preventing some users from logging in. The password manager says it’s investigating the issue.\n",
      "URL: https://www.theverge.com/2024/2/5/24062278/1password-down-outage-password-manager-sign-in\n",
      "Published At: 2024-02-05T17:19:34Z\n",
      "-----\n",
      "Title: Star Wars Episode I: The Phantom Menace will hit theaters again in May\n",
      "Author: Wes Davis\n",
      "Description: Star Wars Episode I: The Phantom Menace returns to theaters for a limited run on May 3rd, 2024 to celebrate the 25th anniversary of the movie’s release.\n",
      "URL: https://www.theverge.com/2024/2/10/24068931/star-wars-phantom-menace-theater-showings-25th-anniversary-may\n",
      "Published At: 2024-02-10T23:37:51Z\n",
      "-----\n",
      "Title: Jamie Webster: The Liverpool hometown superstar fuelled by football and politics\n",
      "Author: https://www.facebook.com/bbcnews\n",
      "Description: Jamie Webster is playing a 40,000-capacity gig in Liverpool this summer and is aiming for number one.\n",
      "URL: https://www.bbc.co.uk/news/entertainment-arts-68126892\n",
      "Published At: 2024-02-01T00:41:26Z\n",
      "-----\n",
      "Title: Tennessee law denied Allie Phillips an abortion. So she's now running for office\n",
      "Author: Katia Riddle\n",
      "Description: Phillips, 28, never expected to go into politics. But after she got devastating news about her pregnancy, everything changed.\n",
      "URL: https://www.npr.org/2024/02/05/1228326177/abortion-allie-phillips-tennessee-reproductive-rights-pregnancy\n",
      "Published At: 2024-02-05T10:00:33Z\n",
      "-----\n",
      "Title: Border security dominates in New York special election to replace Rep. Santos\n",
      "Author: Deirdre Walsh\n",
      "Description: Border politics have dominated the special election to replace expelled former Rep. George Santos in a critical swing district in New York.\n",
      "URL: https://www.npr.org/2024/02/13/1230955410/border-security-dominates-in-new-york-special-election-to-replace-rep-santos\n",
      "Published At: 2024-02-13T10:39:00Z\n",
      "-----\n",
      "Title: A millennial who moved from Canada to Florida said the weather and housing are great — but the politics and healthcare could push them out\n",
      "Author: Jacob Zinkula\n",
      "Description: A millennial moved from Toronto to South Florida for the weather and cheaper housing. The state's politics have raised some concerns.\n",
      "URL: https://www.businessinsider.com/moving-to-florida-weather-rent-fort-lauderdale-politics-healthcare-millennial-2024-2\n",
      "Published At: 2024-02-01T11:03:01Z\n",
      "-----\n"
     ]
    }
   ],
   "source": [
    "user_content_list = []\n",
    "for i in interests:\n",
    "    api_key = os.getenv(\"newsapi\")\n",
    "    url = 'https://newsapi.org/v2/everything'\n",
    "\n",
    "    params = {\n",
    "        'q': i,\n",
    "        'from': '2024-02-01',\n",
    "        'to': '2024-02-13',\n",
    "        'sortBy': 'popular',\n",
    "        'apiKey': api_key, \n",
    "    }\n",
    "\n",
    "    response = requests.get(url, params=params)\n",
    "    if response.status_code == 200:\n",
    "        data = response.json()\n",
    "        articles = data.get('articles', [])\n",
    "        count = 0\n",
    "        for article in articles:\n",
    "            print(f\"Title: {article['title']}\")\n",
    "            print(f\"Author: {article['author']}\")\n",
    "            print(f\"Description: {article['description']}\")\n",
    "            print(f\"URL: {article['url']}\")\n",
    "            print(f\"Published At: {article['publishedAt']}\")\n",
    "            print(\"-----\")\n",
    "            \n",
    "            user_content_list.append(article['url'])\n",
    "            \n",
    "            count += 1\n",
    "            if count >= 4:\n",
    "                break\n",
    "    else:\n",
    "        print(f\"Error: {response.status_code}, {response.text}\")\n",
    "\n",
    "    "
   ]
  },
  {
   "cell_type": "code",
   "execution_count": 108,
   "metadata": {},
   "outputs": [],
   "source": [
    "summary_list = []\n",
    "for i in (user_content_list):\n",
    "    loader = WebBaseLoader(i)\n",
    "    loaded_urls = loader.load()\n",
    "    content = loaded_urls[0].page_content\n",
    "    summary_list.append(openai.invoke(f\"summarize the content in 2-3 sentences: \\n{content}\"))\n",
    "    "
   ]
  },
  {
   "cell_type": "code",
   "execution_count": 109,
   "metadata": {},
   "outputs": [
    {
     "data": {
      "text/plain": [
       "[AIMessage(content='The content seems to be a technical error message related to Yahoo. It instructs the user to try again later.'),\n",
       " AIMessage(content=\"Chrysler's Halcyon concept showcases the company's vision for the future beyond minivans, with a sleek, high-tech roadster featuring electric powertrain and autonomous capabilities. The concept highlights Chrysler's commitment to advanced technology and sustainability, with features like recycled materials, AI voice assistants, and predictive navigation. While the Halcyon is not yet production-ready, it serves as a demonstration of Chrysler's future direction towards electric vehicles and cutting-edge technologies.\"),\n",
       " AIMessage(content='ESPN, Fox, and Warner Bros. are collaborating to launch a sports streaming app that will include a wide range of sports leagues and networks. This new service is set to offer a comprehensive selection of sports programming, potentially addressing the fragmented nature of sports streaming options currently available. The collaboration aims to provide a differentiated sports-centric service for viewers, with the potential to revolutionize the sports streaming landscape.'),\n",
       " AIMessage(content=\"This article is a beginner's guide to online sports betting, covering topics such as the legality of sports betting, common types of sports bets, reading sports betting odds, placing a sports bet, and popular sports to bet on. It also includes tips for responsible sports gambling and provides resources for those who may need help with gambling addiction. The article emphasizes the importance of understanding the basics of sports betting and offers practical advice for beginners.\"),\n",
       " AIMessage(content='The content appears to be a jumble of random words and phrases, possibly indicating a technical issue or error on the Yahoo website. The message \"Oops, something went wrong\" suggests that there may be a problem with accessing the content and prompts the reader to try again later.'),\n",
       " AIMessage(content=\"The article discusses how a developer has successfully ported a UNIX-like operating system called Little Unix (LUnix) to run on a Nintendo Entertainment System (NES) console. The project was driven by curiosity and the similarity between the NES and the Commodore 64 systems. By utilizing the Famicom Disk System (FDS) accessory, the developer was able to overcome the NES's limited RAM and run the UNIX-like OS successfully.\"),\n",
       " AIMessage(content='1Password experienced an hour-long outage that prevented some users from logging in. The company rolled out a fix for the issue within an hour of confirming it, resolving the problem for affected users.'),\n",
       " AIMessage(content='Star Wars Episode I: The Phantom Menace will be returning to theaters in May 2024 to celebrate its 25th anniversary. The re-release comes during a renaissance for the prequel era of the franchise, with Disney producing new series like Ahsoka, Obi-Wan Kenobi, and The Bad Batch. Hayden Christensen, who played Anakin Skywalker in the second and third movies, expressed his gratitude for the response to the films and the work they did.'),\n",
       " AIMessage(content='Jamie Webster is a Liverpool singer who has gained popularity in his hometown and beyond for his politically and football-inspired music. His anthemic indie folk music has landed him in the UK charts, and his upcoming album \"10 For The People\" is aiming for a number one spot. Despite some controversy surrounding his political views and anti-establishment chants at his live shows, Webster\\'s music resonates with fans who appreciate his socially-conscious and observational songwriting.'),\n",
       " AIMessage(content='Allie Phillips, denied an abortion due to Tennessee laws, is now running for office in the state. After receiving devastating news about her pregnancy, Phillips decided to take action and is now running for a Tennessee House seat, focusing on reproductive rights, gun safety, and education. Her candidacy is seen as a test for the Republican party on abortion rights, with potential implications for the state legislature and the country as a whole.'),\n",
       " AIMessage(content=\"Democrat Tom Suozzi has won a special election in New York to replace expelled Republican Rep. George Santos, narrowing the GOP majority in the House. The race was seen as a test of Democrats' ability to overcome attacks on President Biden's handling of immigration and convince voters that Republicans are unable to legislate effectively. The victory is celebrated by Democrats as a sign of dissatisfaction with GOP politics in Washington, while Republicans downplay the win and focus on the upcoming elections in November.\"),\n",
       " AIMessage(content='The content appears to be a list of menu options for a mobile website or app, including categories such as Business, Tech, Markets, and Reviews. It also includes options for different editions of the website in various countries and regions, as well as a login option.')]"
      ]
     },
     "execution_count": 109,
     "metadata": {},
     "output_type": "execute_result"
    }
   ],
   "source": [
    "# checking the summary_list \n",
    "summary_list"
   ]
  },
  {
   "cell_type": "code",
   "execution_count": 110,
   "metadata": {},
   "outputs": [
    {
     "name": "stdout",
     "output_type": "stream",
     "text": [
      "The content seems to be a technical error message related to Yahoo. It instructs the user to try again later.\n"
     ]
    }
   ],
   "source": [
    "print(summary_list[0].content)"
   ]
  },
  {
   "cell_type": "code",
   "execution_count": 111,
   "metadata": {},
   "outputs": [],
   "source": [
    "suggested_urls = []\n",
    "@tool\n",
    "def suggest_articles(text):\n",
    "    '''Used to suggest 9 new articles to the user based on the list of summaries provided'''\n",
    "    for i in interests:\n",
    "        api_key = os.getenv(\"newsapi\")\n",
    "        url = 'https://newsapi.org/v2/everything'\n",
    "\n",
    "        params = {\n",
    "            'q': i,\n",
    "            'from': '2024-02-14',\n",
    "            'to': '2024-02-25',\n",
    "            'sortBy': 'popular',\n",
    "            'apiKey': api_key, \n",
    "        }\n",
    "\n",
    "        response = requests.get(url, params=params)\n",
    "        if response.status_code == 200:\n",
    "            data = response.json()\n",
    "            articles = data.get('articles', [])\n",
    "            count = 0\n",
    "            for article in articles:\n",
    "                print(f\"Title: {article['title']}\")\n",
    "                print(f\"Author: {article['author']}\")\n",
    "                print(f\"Description: {article['description']}\")\n",
    "                print(f\"URL: {article['url']}\")\n",
    "                print(f\"Published At: {article['publishedAt']}\")\n",
    "                print(\"-----\")\n",
    "                \n",
    "                suggested_urls.append(article['url'])\n",
    "                \n",
    "                count += 1\n",
    "                if count >= 3:\n",
    "                    break\n",
    "        else:\n",
    "            print(f\"Error: {response.status_code}, {response.text}\")   \n",
    "\n",
    "tools = [suggest_articles] "
   ]
  },
  {
   "cell_type": "code",
   "execution_count": 112,
   "metadata": {},
   "outputs": [
    {
     "name": "stdout",
     "output_type": "stream",
     "text": [
      "\n",
      "\n",
      "\u001b[1m> Entering new AgentExecutor chain...\u001b[0m\n",
      "\u001b[32;1m\u001b[1;3mThere are multiple summaries included in the input question.\n",
      "Action: suggest_articles\n",
      "Action Input: The list of summaries provided in the input question\u001b[0mTitle: Max is the first streaming service to offer Dolby Vision for live sports\n",
      "Author: Steve Dent\n",
      "Description: As part of its NBA All-Star coverage press release, Warner Bros. Discovery announced that it'll stream live sports with Dolby Vision for the first time ever. The feature will be available to Max subscribers with supported Dolby Vision TVs \"via the B/R [Bleach…\n",
      "URL: https://consent.yahoo.com/v2/collectConsent?sessionId=1_cc-session_fb11e2fd-f2de-450f-818f-e6aeda5a764d\n",
      "Published At: 2024-02-14T10:15:15Z\n",
      "-----\n",
      "Title: FuboTV accuses Disney, Fox and Warner Bros. of antitrust practices over joint streaming service\n",
      "Author: Mariella Moon\n",
      "Description: FuboTV, a streaming platform dedicated to live sports, has filed an antitrust lawsuit against Disney, Fox and Warner Bros. Discovery, accusing the companies of staging \"a years-long campaign\" to hamper its business. The company's lawsuit comes shortly Disney-…\n",
      "URL: https://consent.yahoo.com/v2/collectConsent?sessionId=1_cc-session_03c89ec0-3401-4e53-8be7-8d8d08634c6c\n",
      "Published At: 2024-02-21T06:41:40Z\n",
      "-----\n",
      "Title: It’s Apparently Easy to Crack the Apple Vision Pro's Front Screen\n",
      "Author: Boone Ashworth\n",
      "Description: Plus: Apple launches a Sports app for the iPhone, Sony is testing its PlayStation VR headset on PC games, and Hamilton has a fancy new watch to celebrate the arrival of Dune: Part Two.\n",
      "URL: https://www.wired.com/story/apple-vision-pro-crack-in-front-screen/\n",
      "Published At: 2024-02-24T14:30:00Z\n",
      "-----\n",
      "Title: Why does Apple make it so hard to share the Vision Pro?\n",
      "Author: Adi Robertson\n",
      "Description: Apple’s $3,499 Vision Pro has potential as a shared entertainment or work device, but a lack of multiuser support is holding it back.\n",
      "URL: https://www.theverge.com/2024/2/16/24058318/apple-vision-pro-sharing-difficulties\n",
      "Published At: 2024-02-16T13:00:00Z\n",
      "-----\n",
      "Title: Sony wants its PlayStation exclusives to come to PC earlier\n",
      "Author: Will Shanklin\n",
      "Description: Sony may shrink the gap between the launches of its PlayStation exclusives and PC ports. Company president Hiroki Totoki suggested in a post-earnings call Q&A session Wednesday (via VGC) that he wants PlayStation to go “aggressive on improving our margin perf…\n",
      "URL: https://www.engadget.com/sony-wants-its-playstation-exclusives-to-come-to-pc-earlier-212001939.html\n",
      "Published At: 2024-02-14T21:20:01Z\n",
      "-----\n",
      "Title: A piracy app outranked Netflix on the App Store before Apple pulled it\n",
      "Author: Mariella Moon\n",
      "Description: Over the past week, there was an app called Kimi that curiously outranked well-known streaming services, such as Netflix and Prime Video, in the list of top free entertainment apps for iOS. Now, Apple has pulled down the application... most likely because it …\n",
      "URL: https://www.engadget.com/a-piracy-app-outranked-netflix-on-the-app-store-before-apple-pulled-it-132013246.html\n",
      "Published At: 2024-02-14T13:20:13Z\n",
      "-----\n",
      "Title: The Mayorkas impeachment was a classic example of performance politics\n",
      "Author: Madison Hall\n",
      "Description: Like most of the House GOP's passed legislation this session, Mayorkas' partisan impeachment won't actually accomplish anything.\n",
      "URL: https://www.businessinsider.com/house-republicans-performance-politics-mayorkas-vote-2024-2\n",
      "Published At: 2024-02-14T17:17:45Z\n",
      "-----\n",
      "Title: A boomer moved back to Virginia after living in Florida for a decade. She said she would 'never own another home' in the Sunshine State and loves the slower pace of life.\n",
      "Author: Noah Sheidlower\n",
      "Description: Nancy, a 68-year-old retiree, moved back to a rural home in Virginia from Florida due to escalating costs, the heat, and overbearing politics.\n",
      "URL: https://www.businessinsider.com/moving-from-florida-to-virginia-pros-cons-cape-coral-weather-2024-2\n",
      "Published At: 2024-02-19T10:43:01Z\n",
      "-----\n",
      "Title: House Republicans stand by their decision to oust George Santos even as it cost them a GOP seat: 'You have to have standards'\n",
      "Author: John L. Dorman\n",
      "Description: \"Sometimes these decisions are bigger than politics,\" GOP Rep. Mike Lawler told Politico of his vote to remove George Santos from Congress.\n",
      "URL: https://www.businessinsider.com/george-santos-pilip-new-york-election-loss-standards-suozzi-2024-2\n",
      "Published At: 2024-02-18T20:28:59Z\n",
      "-----\n",
      "\u001b[36;1m\u001b[1;3mNone\u001b[0m\u001b[32;1m\u001b[1;3mI need to suggest 9 new articles based on the list of summaries provided.\n",
      "Action: suggest_articles\n",
      "Action Input: The list of summaries provided in the input question\u001b[0mTitle: Max is the first streaming service to offer Dolby Vision for live sports\n",
      "Author: Steve Dent\n",
      "Description: As part of its NBA All-Star coverage press release, Warner Bros. Discovery announced that it'll stream live sports with Dolby Vision for the first time ever. The feature will be available to Max subscribers with supported Dolby Vision TVs \"via the B/R [Bleach…\n",
      "URL: https://consent.yahoo.com/v2/collectConsent?sessionId=1_cc-session_fb11e2fd-f2de-450f-818f-e6aeda5a764d\n",
      "Published At: 2024-02-14T10:15:15Z\n",
      "-----\n",
      "Title: FuboTV accuses Disney, Fox and Warner Bros. of antitrust practices over joint streaming service\n",
      "Author: Mariella Moon\n",
      "Description: FuboTV, a streaming platform dedicated to live sports, has filed an antitrust lawsuit against Disney, Fox and Warner Bros. Discovery, accusing the companies of staging \"a years-long campaign\" to hamper its business. The company's lawsuit comes shortly Disney-…\n",
      "URL: https://consent.yahoo.com/v2/collectConsent?sessionId=1_cc-session_03c89ec0-3401-4e53-8be7-8d8d08634c6c\n",
      "Published At: 2024-02-21T06:41:40Z\n",
      "-----\n",
      "Title: It’s Apparently Easy to Crack the Apple Vision Pro's Front Screen\n",
      "Author: Boone Ashworth\n",
      "Description: Plus: Apple launches a Sports app for the iPhone, Sony is testing its PlayStation VR headset on PC games, and Hamilton has a fancy new watch to celebrate the arrival of Dune: Part Two.\n",
      "URL: https://www.wired.com/story/apple-vision-pro-crack-in-front-screen/\n",
      "Published At: 2024-02-24T14:30:00Z\n",
      "-----\n",
      "Title: Why does Apple make it so hard to share the Vision Pro?\n",
      "Author: Adi Robertson\n",
      "Description: Apple’s $3,499 Vision Pro has potential as a shared entertainment or work device, but a lack of multiuser support is holding it back.\n",
      "URL: https://www.theverge.com/2024/2/16/24058318/apple-vision-pro-sharing-difficulties\n",
      "Published At: 2024-02-16T13:00:00Z\n",
      "-----\n",
      "Title: Sony wants its PlayStation exclusives to come to PC earlier\n",
      "Author: Will Shanklin\n",
      "Description: Sony may shrink the gap between the launches of its PlayStation exclusives and PC ports. Company president Hiroki Totoki suggested in a post-earnings call Q&A session Wednesday (via VGC) that he wants PlayStation to go “aggressive on improving our margin perf…\n",
      "URL: https://www.engadget.com/sony-wants-its-playstation-exclusives-to-come-to-pc-earlier-212001939.html\n",
      "Published At: 2024-02-14T21:20:01Z\n",
      "-----\n",
      "Title: A piracy app outranked Netflix on the App Store before Apple pulled it\n",
      "Author: Mariella Moon\n",
      "Description: Over the past week, there was an app called Kimi that curiously outranked well-known streaming services, such as Netflix and Prime Video, in the list of top free entertainment apps for iOS. Now, Apple has pulled down the application... most likely because it …\n",
      "URL: https://www.engadget.com/a-piracy-app-outranked-netflix-on-the-app-store-before-apple-pulled-it-132013246.html\n",
      "Published At: 2024-02-14T13:20:13Z\n",
      "-----\n",
      "Title: The Mayorkas impeachment was a classic example of performance politics\n",
      "Author: Madison Hall\n",
      "Description: Like most of the House GOP's passed legislation this session, Mayorkas' partisan impeachment won't actually accomplish anything.\n",
      "URL: https://www.businessinsider.com/house-republicans-performance-politics-mayorkas-vote-2024-2\n",
      "Published At: 2024-02-14T17:17:45Z\n",
      "-----\n",
      "Title: A boomer moved back to Virginia after living in Florida for a decade. She said she would 'never own another home' in the Sunshine State and loves the slower pace of life.\n",
      "Author: Noah Sheidlower\n",
      "Description: Nancy, a 68-year-old retiree, moved back to a rural home in Virginia from Florida due to escalating costs, the heat, and overbearing politics.\n",
      "URL: https://www.businessinsider.com/moving-from-florida-to-virginia-pros-cons-cape-coral-weather-2024-2\n",
      "Published At: 2024-02-19T10:43:01Z\n",
      "-----\n",
      "Title: House Republicans stand by their decision to oust George Santos even as it cost them a GOP seat: 'You have to have standards'\n",
      "Author: John L. Dorman\n",
      "Description: \"Sometimes these decisions are bigger than politics,\" GOP Rep. Mike Lawler told Politico of his vote to remove George Santos from Congress.\n",
      "URL: https://www.businessinsider.com/george-santos-pilip-new-york-election-loss-standards-suozzi-2024-2\n",
      "Published At: 2024-02-18T20:28:59Z\n",
      "-----\n",
      "\u001b[36;1m\u001b[1;3mNone\u001b[0m\u001b[32;1m\u001b[1;3mI have suggested 9 new articles based on the list of summaries provided.\n",
      "Final Answer: The 9 new articles have been suggested to the user.\u001b[0m\n",
      "\n",
      "\u001b[1m> Finished chain.\u001b[0m\n"
     ]
    }
   ],
   "source": [
    "predefinedPrompt = hub.pull(\"hwchase17/react\") \n",
    "agent = create_react_agent(llm = openai, tools = tools, prompt = predefinedPrompt)\n",
    "agent_executor = AgentExecutor(agent=agent, tools = tools, verbose = True)\n",
    "result = agent_executor.invoke({\"input\": [summary_list]})\n"
   ]
  },
  {
   "cell_type": "code",
   "execution_count": 113,
   "metadata": {},
   "outputs": [
    {
     "name": "stdout",
     "output_type": "stream",
     "text": [
      "The 9 new articles have been suggested to the user.\n"
     ]
    }
   ],
   "source": [
    "print(result[\"output\"])"
   ]
  },
  {
   "cell_type": "code",
   "execution_count": 114,
   "metadata": {},
   "outputs": [
    {
     "name": "stdout",
     "output_type": "stream",
     "text": [
      "['https://consent.yahoo.com/v2/collectConsent?sessionId=1_cc-session_fb11e2fd-f2de-450f-818f-e6aeda5a764d', 'https://consent.yahoo.com/v2/collectConsent?sessionId=1_cc-session_03c89ec0-3401-4e53-8be7-8d8d08634c6c', 'https://www.wired.com/story/apple-vision-pro-crack-in-front-screen/', 'https://www.theverge.com/2024/2/16/24058318/apple-vision-pro-sharing-difficulties', 'https://www.engadget.com/sony-wants-its-playstation-exclusives-to-come-to-pc-earlier-212001939.html', 'https://www.engadget.com/a-piracy-app-outranked-netflix-on-the-app-store-before-apple-pulled-it-132013246.html', 'https://www.businessinsider.com/house-republicans-performance-politics-mayorkas-vote-2024-2', 'https://www.businessinsider.com/moving-from-florida-to-virginia-pros-cons-cape-coral-weather-2024-2', 'https://www.businessinsider.com/george-santos-pilip-new-york-election-loss-standards-suozzi-2024-2', 'https://consent.yahoo.com/v2/collectConsent?sessionId=1_cc-session_fb11e2fd-f2de-450f-818f-e6aeda5a764d', 'https://consent.yahoo.com/v2/collectConsent?sessionId=1_cc-session_03c89ec0-3401-4e53-8be7-8d8d08634c6c', 'https://www.wired.com/story/apple-vision-pro-crack-in-front-screen/', 'https://www.theverge.com/2024/2/16/24058318/apple-vision-pro-sharing-difficulties', 'https://www.engadget.com/sony-wants-its-playstation-exclusives-to-come-to-pc-earlier-212001939.html', 'https://www.engadget.com/a-piracy-app-outranked-netflix-on-the-app-store-before-apple-pulled-it-132013246.html', 'https://www.businessinsider.com/house-republicans-performance-politics-mayorkas-vote-2024-2', 'https://www.businessinsider.com/moving-from-florida-to-virginia-pros-cons-cape-coral-weather-2024-2', 'https://www.businessinsider.com/george-santos-pilip-new-york-election-loss-standards-suozzi-2024-2']\n"
     ]
    }
   ],
   "source": [
    "# Checking the recommended URLs\n",
    "\n",
    "print(suggested_urls)"
   ]
  },
  {
   "cell_type": "code",
   "execution_count": 115,
   "metadata": {},
   "outputs": [],
   "source": [
    "#  Proactive Suggestion Code \n",
    "\n",
    "from time import sleep\n",
    "from plyer import notification\n",
    "\n",
    "for link in suggested_urls:\n",
    "    notification.notify(\n",
    "        title='Latest News',\n",
    "        message=link,\n",
    "        timeout=10\n",
    "    )\n",
    "    sleep(5)"
   ]
  },
  {
   "cell_type": "markdown",
   "metadata": {},
   "source": [
    "<<< End Of Code >>>"
   ]
  }
 ],
 "metadata": {
  "kernelspec": {
   "display_name": "Python 3",
   "language": "python",
   "name": "python3"
  },
  "language_info": {
   "codemirror_mode": {
    "name": "ipython",
    "version": 3
   },
   "file_extension": ".py",
   "mimetype": "text/x-python",
   "name": "python",
   "nbconvert_exporter": "python",
   "pygments_lexer": "ipython3",
   "version": "3.12.0"
  }
 },
 "nbformat": 4,
 "nbformat_minor": 2
}
