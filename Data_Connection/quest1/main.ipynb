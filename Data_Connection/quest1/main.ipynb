{
 "cells": [
  {
   "cell_type": "markdown",
   "metadata": {},
   "source": [
    "### Data Connection \n",
    "##### Question 1 - Database Augmented LLM (main)"
   ]
  },
  {
   "cell_type": "code",
   "execution_count": 29,
   "metadata": {},
   "outputs": [],
   "source": [
    "from langchain.embeddings import HuggingFaceEmbeddings\n",
    "from langchain_openai import ChatOpenAI\n",
    "from langchain_community.vectorstores import Chroma\n",
    "from langchain.chains import RetrievalQA\n",
    "import os"
   ]
  },
  {
   "cell_type": "code",
   "execution_count": 30,
   "metadata": {},
   "outputs": [],
   "source": [
    "llm = ChatOpenAI(openai_api_key=os.getenv(\"OPENAI_API_KEY_PERSONAL\"), temperature=0)\n",
    "hf_embedding_function = HuggingFaceEmbeddings()"
   ]
  },
  {
   "cell_type": "code",
   "execution_count": 31,
   "metadata": {},
   "outputs": [],
   "source": [
    "indianHistoryDB = Chroma(embedding_function=hf_embedding_function, persist_directory=\"./indianHistory_db\")"
   ]
  },
  {
   "cell_type": "code",
   "execution_count": 32,
   "metadata": {},
   "outputs": [
    {
     "name": "stdout",
     "output_type": "stream",
     "text": [
      "Sure, here are five freedom fighters who played significant roles in India's independence movement:\n",
      "\n",
      "1. Mahatma Gandhi\n",
      "2. Jawaharlal Nehru\n",
      "3. Subhas Chandra Bose\n",
      "4. Bhagat Singh\n",
      "5. Rani Lakshmibai\n"
     ]
    }
   ],
   "source": [
    "user_ques = str(input(\"Ask any Indian Historic Question : \"))       # Question asked : Name 5 freedom fighters who fought for  India's independence\n",
    "\n",
    "retriever = indianHistoryDB.as_retriever(search_type =\"similarity\", search_kwargs={'k':2})\n",
    "chain = RetrievalQA.from_chain_type(llm=llm, chain_type=\"stuff\",retriever=retriever, return_source_documents=True)\n",
    "result=chain.invoke(user_ques)\n",
    "print(result[\"result\"])"
   ]
  },
  {
   "cell_type": "markdown",
   "metadata": {},
   "source": [
    "<<< End Of Code >>>"
   ]
  }
 ],
 "metadata": {
  "kernelspec": {
   "display_name": "Python 3",
   "language": "python",
   "name": "python3"
  },
  "language_info": {
   "codemirror_mode": {
    "name": "ipython",
    "version": 3
   },
   "file_extension": ".py",
   "mimetype": "text/x-python",
   "name": "python",
   "nbconvert_exporter": "python",
   "pygments_lexer": "ipython3",
   "version": "3.12.0"
  }
 },
 "nbformat": 4,
 "nbformat_minor": 2
}
