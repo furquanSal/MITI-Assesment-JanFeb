{
 "cells": [
  {
   "cell_type": "markdown",
   "metadata": {},
   "source": [
    "### Data Connection \n",
    "##### Question 2 - External API Integration"
   ]
  },
  {
   "cell_type": "code",
   "execution_count": 2,
   "metadata": {},
   "outputs": [],
   "source": [
    "from langchain_google_genai import ChatGoogleGenerativeAI\n",
    "from langchain.prompts.chat import (\n",
    "    ChatPromptTemplate,\n",
    "    HumanMessagePromptTemplate\n",
    ")\n",
    "from langchain.chains import LLMChain\n",
    "import requests\n",
    "import os"
   ]
  },
  {
   "cell_type": "code",
   "execution_count": 5,
   "metadata": {},
   "outputs": [],
   "source": [
    "# Example 1 \n",
    "llm = ChatGoogleGenerativeAI(model='gemini-pro')\n",
    "\n",
    "symbol = str(input(\"Specify the company or organization for which you require stock market information: (eg. RELIANCE.BSE, MBG.DEX, IBM ) \"))     \n",
    "function = \"TIME_SERIES_DAILY\"\n",
    "interval = \"60min\"\n",
    "outputsize = \"compact\"\n",
    "\n",
    "def get_stock_values(symbol, function, interval, outputsize):\n",
    "    api_key = os.getenv(\"alphavantage_stock_api_key\")\n",
    "    url = f\"https://www.alphavantage.co/query?function={function}&symbol={symbol}&interval={interval}&outputsize={outputsize}&apikey={api_key}\"\n",
    "    response = requests.get(url)\n",
    "    data = response.json()\n",
    "    return data\n",
    "  \n",
    "stock_data = get_stock_values(symbol, function, interval, outputsize)\n",
    "input_text = \"Analyse the given json data and give the summary of stock prices for {symbol}. \\n\\n {stock_data}\"\n",
    "humMsgPmtTmpl = HumanMessagePromptTemplate.from_template(input_text)\n",
    "chatPmt = ChatPromptTemplate.from_messages([humMsgPmtTmpl])\n",
    "chainLLM = LLMChain(llm=llm, prompt=chatPmt)\n",
    "\n",
    "\n",
    "result = chainLLM.invoke(input={\n",
    "    \"symbol\" : symbol,\n",
    "    'stock_data' : stock_data\n",
    "    })"
   ]
  },
  {
   "cell_type": "code",
   "execution_count": 6,
   "metadata": {},
   "outputs": [
    {
     "name": "stdout",
     "output_type": "stream",
     "text": [
      "**IBM Stock Price Summary:**\n",
      "\n",
      "**February 23, 2024:**\n",
      "* Open: $184.90\n",
      "* High: $186.45\n",
      "* Low: $184.57\n",
      "* Close: $185.72\n",
      "* Volume: 3,433,800\n",
      "\n",
      "**Overall Observations:**\n",
      "* IBM stock prices experienced fluctuations throughout the given period.\n",
      "* On some days, the stock showed significant gains, while on others, declines were observed.\n",
      "* There were periods of stability with relatively consistent prices.\n",
      "* The highest closing price was $196.90 on January 25, 2024.\n",
      "* The lowest closing price was $136.38 on October 23, 2023.\n",
      "* The stock reached its peak volume of 11,130,170 on October 26, 2023.\n",
      "\n",
      "**Recent Changes:**\n",
      "* In the last few months, IBM stock exhibited a positive trend, reaching its highest closing price on January 25, 2024.\n",
      "* However, it faced a decline in the following weeks, reaching a relatively lower closing price on February 23, 2024.\n",
      "* The stock price on February 23, 2024, indicates a slight recovery from the recent dip.\n",
      "\n",
      "**Conclusion:**\n",
      "The IBM stock prices showed a dynamic pattern, with both gains and losses over the analyzed period. While there were periods of stability, the stock also experienced notable fluctuations. Investors should closely monitor these trends and consider various factors that may impact the company's performance, including economic conditions, industry developments, and financial results, before making any investment decisions.\n"
     ]
    }
   ],
   "source": [
    "print(result['text'])"
   ]
  },
{
   "cell_type": "code",
   "execution_count": 21,
   "metadata": {},
   "outputs": [],
   "source": [
    "# Example 2 \n",
    "llm = ChatGoogleGenerativeAI(model='gemini-pro')\n",
    "\n",
    "symbol = str(input(\"Specify the company or organization for which you require stock market information: (eg. RELIANCE.BSE, MBG.DEX, IBM ) \"))     \n",
    "function = \"TIME_SERIES_DAILY\"\n",
    "interval = \"60min\"\n",
    "outputsize = \"compact\"\n",
    "\n",
    "def get_stock_values(symbol, function, interval, outputsize):\n",
    "    api_key = os.getenv(\"alphavantage_stock_api_key\")\n",
    "    url = f\"https://www.alphavantage.co/query?function={function}&symbol={symbol}&interval={interval}&outputsize={outputsize}&apikey={api_key}\"\n",
    "    response = requests.get(url)\n",
    "    data = response.json()\n",
    "    return data\n",
    "  \n",
    "stock_data = get_stock_values(symbol, function, interval, outputsize)\n",
    "input_text = \"\"\"Analyse the given json data and generate the report of stock prices. Make sure you include overall observations, recent changes \n",
    "and conclusion in your report : \\n\\n Company : {symbol} \\n Stock Information : {stock_data}\"\"\"\n",
    "humMsgPmtTmpl = HumanMessagePromptTemplate.from_template(input_text)\n",
    "chatPmt = ChatPromptTemplate.from_messages([humMsgPmtTmpl])\n",
    "chainLLM = LLMChain(llm=llm, prompt=chatPmt)\n",
    "\n",
    "\n",
    "result = chainLLM.invoke(input={\n",
    "    \"symbol\" : symbol,\n",
    "    'stock_data' : stock_data\n",
    "    })"
   ]
  },
  {
   "cell_type": "code",
   "execution_count": 22,
   "metadata": {},
   "outputs": [
    {
     "name": "stdout",
     "output_type": "stream",
     "text": [
      "\n",
      "\n",
      " Fetched stock information of the company : RELIANCE.BSE \n",
      "\n",
      "\n",
      "**Overall Observations:**\n",
      "\n",
      "- The stock prices of RELIANCE.BSE have shown a general upward trend over the past several months.\n",
      "- Over the last 25 days, the stock has seen a consistent increase in its closing price, rising from ₹2811.45 on January 31, 2024 to ₹2986.35 on February 23, 2024, representing a growth of approximately 6.15%.\n",
      "\n",
      "**Recent Changes:**\n",
      "\n",
      "- In the past five trading days, the stock has experienced a slight dip, with the closing price decreasing from ₹2996.15 on February 22, 2024 to ₹2986.35 on February 23, 2024.\n",
      "- The intraday high on February 23, 2024 also saw a small decline, from ₹2996.15 to ₹2971.40.\n",
      "- The intraday low on February 23, 2024 remained relatively stable at ₹2965.25, showing a marginal decrease from the previous day's low of ₹2971.40.\n",
      "- The stock volume, however, has shown significant fluctuations in recent days, with a notable spike on February 21, 2024, where it reached 812171 shares, followed by a drop to 653001 shares on February 23, 2024.\n",
      "\n",
      "**Conclusion:**\n",
      "\n",
      "Overall, the stock prices of RELIANCE.BSE have exhibited a positive trend in the past several months, indicating a potential buying opportunity for investors who are looking for long-term growth. However, the recent slight dip in prices and the fluctuating volume suggest that investors should exercise caution and monitor the market closely before making any investment decisions.\n"
     ]
    }
   ],
   "source": [
    "print(f\"\\n\\n Fetched stock information of the company : {symbol} \\n\\n\")\n",
    "print(result['text'])"
   ]
  },
  {
   "cell_type": "markdown",
   "metadata": {},
   "source": [
    "<<< End Of Code >>>"
   ]
  }
 ],
 "metadata": {
  "kernelspec": {
   "display_name": "Python 3",
   "language": "python",
   "name": "python3"
  },
  "language_info": {
   "codemirror_mode": {
    "name": "ipython",
    "version": 3
   },
   "file_extension": ".py",
   "mimetype": "text/x-python",
   "name": "python",
   "nbconvert_exporter": "python",
   "pygments_lexer": "ipython3",
   "version": "3.12.0"
  }
 },
 "nbformat": 4,
 "nbformat_minor": 2
}
